{
  "nbformat": 4,
  "nbformat_minor": 0,
  "metadata": {
    "colab": {
      "provenance": [],
      "authorship_tag": "ABX9TyMCoxtMAJvfyw6lTwQxkMm0",
      "include_colab_link": true
    },
    "kernelspec": {
      "name": "python3",
      "display_name": "Python 3"
    },
    "language_info": {
      "name": "python"
    },
    "accelerator": "TPU"
  },
  "cells": [
    {
      "cell_type": "markdown",
      "metadata": {
        "id": "view-in-github",
        "colab_type": "text"
      },
      "source": [
        "<a href=\"https://colab.research.google.com/github/Sindhuhar/daily_coding_puzzle/blob/main/binary_palindrome.ipynb\" target=\"_parent\"><img src=\"https://colab.research.google.com/assets/colab-badge.svg\" alt=\"Open In Colab\"/></a>"
      ]
    },
    {
      "cell_type": "markdown",
      "source": [
        "##A binary palindrome"
      ],
      "metadata": {
        "id": "OctNNwKihyi5"
      }
    },
    {
      "cell_type": "markdown",
      "source": [
        "**Problem**\n",
        "\n",
        "You are given a number N. In one operation, you can either increase the value of N by 1 or decrease the value of N by 1.\n",
        "\n",
        "Determine the minimum number of operations required (possibly zero) to convert number N to a number P such that binary representation of\n",
        "P is a palindrome.\n",
        "\n",
        "Note: A binary representation is said to be a palindrome if it reads the same from left-right and right-left.\n",
        "\n",
        "Input format\n",
        "\n",
        "\n",
        "\n",
        "*   The first line contains an integer T denoting the number of test cases.\n",
        "*   For each test case, the first line contains an integer N.\n",
        "\n",
        "Sample Input = 6,9\n",
        "Sample Output = 1,0\n",
        "\n",
        "For first test case\n",
        "\n",
        "\n",
        "\n",
        "*   If we decrease the value of N by 1. Then N = 5, whose binary representation is 101 which is a palindrome.\n",
        "*   Hence, minimum 1 operation is required.\n",
        "\n",
        "For second test case\n",
        "\n",
        "*   N = 9, has binary representation 1001 which is a palindrome.\n",
        "*   Hence, 0 operations is required.\n",
        "\n",
        "\n",
        "\n",
        "\n",
        "\n",
        "\n"
      ],
      "metadata": {
        "id": "2bQIHzsWh4Wa"
      }
    },
    {
      "cell_type": "code",
      "execution_count": 2,
      "metadata": {
        "colab": {
          "base_uri": "https://localhost:8080/"
        },
        "id": "Nl3cJ3dDeUd5",
        "outputId": "f834525f-6a2f-4274-a2b6-7489fcf9d030"
      },
      "outputs": [
        {
          "output_type": "stream",
          "name": "stdout",
          "text": [
            "1\n",
            "0\n"
          ]
        }
      ],
      "source": [
        "def rev(n):\n",
        "    b = bin(n)[2:]\n",
        "\n",
        "    l = 0\n",
        "    r = len(b) - 1\n",
        "    while l<r:\n",
        "        if b[l] != b[r]:\n",
        "            return False\n",
        "        l += 1\n",
        "        r -= 1\n",
        "\n",
        "    return True\n",
        "\n",
        "\n",
        "for n in [6,9]:\n",
        "    if rev(n) == True:\n",
        "        print(0)\n",
        "        continue\n",
        "\n",
        "    for i in range (1,32):\n",
        "        if rev (n + i) == True:\n",
        "            print(i)\n",
        "            break\n",
        "        elif rev (n - i) == True:\n",
        "            print(\"Sub\")\n",
        "            print(i)\n",
        "            break"
      ]
    }
  ]
}